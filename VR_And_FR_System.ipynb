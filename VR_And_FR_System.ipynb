{
 "cells": [
  {
   "cell_type": "markdown",
   "metadata": {},
   "source": [
    "# Project : Voice Biometric And Face Recognition System For Security\n",
    "\n",
    "\n",
    "## POC     : Consider there is a door with access control which can be unlocked with your voice and face.\n",
    "\n",
    "### Tasks: \n",
    "### 1) Prepare database/model with your face and voice data.\n",
    "### 2) Identifies your voice with existing database/model.\n",
    "### 3) Identifies your face with existing database/model.\n",
    "### 4) Successful in order to unlock the door or keep lock.\n",
    "\n",
    "\n",
    "\n"
   ]
  },
  {
   "cell_type": "code",
   "execution_count": null,
   "metadata": {
    "collapsed": true
   },
   "outputs": [],
   "source": [
    "# import required packages\n",
    "# for speech recognition\n",
    "import speech_recognition as sr\n",
    "\n",
    "# for mysql database / model \n",
    "import mysql.connector as msqlconn\n",
    "\n",
    "# for image processing  \n",
    "import cv2\n",
    "\n",
    "# for face recognition\n",
    "import face_recognition"
   ]
  },
  {
   "cell_type": "code",
   "execution_count": null,
   "metadata": {
    "collapsed": true
   },
   "outputs": [],
   "source": [
    "# function for recognize speech using Google Speech\n",
    "def googlespeech_speech_recognize_from_mic(recognize,audio):\n",
    "    name = \"\"\n",
    "    try:\n",
    "        print(\"Google Speech thinks your name is : \" + recognize.recognize_google(audio)+\" \\n \")\n",
    "        name = recognize.recognize_google(audio)\n",
    "    except sr.UnknownValueError:\n",
    "        print(\"Google Speech could not understand audio. Please try again.\\n\")\n",
    "        name = \"\"\n",
    "    except sr.RequestError as e:\n",
    "        print(\"Could not request results from Google Speech Recognition service; {0}\".format(e)+\"\\n\")\n",
    "        name = \"\"\n",
    "    return name"
   ]
  },
  {
   "cell_type": "code",
   "execution_count": null,
   "metadata": {
    "collapsed": true
   },
   "outputs": [],
   "source": [
    "# function for identifies your voice with existing database/model\n",
    "def recognize_voice_from_mic(text,mycursor):\n",
    "    imgPath = \"\"\n",
    "    try:\n",
    "        # remove spaces from voice\n",
    "        text = text.replace(\" \",\"\")\n",
    "        # convert voice into lower case\n",
    "        text = text.lower()\n",
    "        \n",
    "        # printing query for debug info\n",
    "        print(\"\\t[Info] : SELECT name,image FROM user WHERE LOWER(name)='\"+text+\"'\\n\")\n",
    "        # find voice into existing database model\n",
    "        mycursor.execute(\"SELECT name,image FROM user WHERE LOWER(name)='\"+text+\"'\")\n",
    "        \n",
    "        # retrive all the voice match users\n",
    "        myresult = mycursor.fetchall()\n",
    "        \n",
    "        # in our database base one user => one voice\n",
    "        # check how many users return, if return one user then we process\n",
    "        if mycursor.rowcount == 1 :\n",
    "            \n",
    "            # get user details\n",
    "            userRecord = myresult[0];\n",
    "            # extract name from user details\n",
    "            name = userRecord[0]\n",
    "            # extract image name from user details\n",
    "            imageName = userRecord[1]\n",
    "            \n",
    "            # if extra spaces exists then remove \n",
    "            imageName = imageName.replace(\" \", \"\")\n",
    "            # preparing image path\n",
    "            imgPath = \"C:/Users/Pritul/Pictures/Camera Roll/\"+imageName+\"\"\n",
    "            \n",
    "            # printing image path for debug info\n",
    "            print(\"\\t[Info] : \"+imgPath+\"\\n\")\n",
    "            print(\"Congratulations, Your voice successfully recognized.\\n\")\n",
    "        else:\n",
    "            print(\"Sorry, Please Re-Run program and speak your valid name.\\n\")\n",
    "            imgPath = \"\"\n",
    "    except Exception as e:\n",
    "        print(\"Exception occured while recognizing voice.\\n\")\n",
    "        imgPath = \"\"\n",
    "    return imgPath"
   ]
  },
  {
   "cell_type": "code",
   "execution_count": null,
   "metadata": {
    "collapsed": true
   },
   "outputs": [],
   "source": [
    "# function for sppech recognize\n",
    "def recognize_face_from_webcam(imgPath):\n",
    "    status = \"\"\n",
    "    try:\n",
    "        # get webcam #0 (the default one)\n",
    "        video_capture = cv2.VideoCapture(0)\n",
    "        \n",
    "        # image traning phase\n",
    "        # load a image and learn how to recognize it.\n",
    "        existing_image = face_recognition.load_image_file(imgPath)\n",
    "        # encoded the loaded image into a feature vector\n",
    "        existing_face_encoding = face_recognition.face_encodings(existing_image)[0]\n",
    "\n",
    "        # create arrays of known face encodings and their names\n",
    "        known_face_encodings = [\n",
    "            existing_face_encoding\n",
    "        ]\n",
    "\n",
    "        while True:\n",
    "\n",
    "            # get one by one frame of current video (one by one images)\n",
    "            ret, frame = video_capture.read()\n",
    "            \n",
    "            # convert the image from BGR color (which OpenCV uses) to RGB color (which face_recognition uses)\n",
    "            # rgb values between 0 to 255\n",
    "            rgb_frame = frame[:, :, ::-1]\n",
    "\n",
    "            # testing phase\n",
    "            # find all the faces\n",
    "            face_locations = face_recognition.face_locations(rgb_frame)\n",
    "\n",
    "            # find all the faces and face encodings in the current frame of video\n",
    "            face_encodings = face_recognition.face_encodings(rgb_frame, face_locations)\n",
    "\n",
    "            # iterate one by one face from video frame (images)\n",
    "            for (top, right, bottom, left), face_encoding in zip(face_locations, face_encodings):\n",
    "\n",
    "                # check face is match for voice match user\n",
    "                matches = face_recognition.compare_faces(known_face_encodings, face_encoding)\n",
    "                #print(matches)\n",
    "\n",
    "                # if face match then print message,\n",
    "                if True in matches:\n",
    "                    print(\"Congratulations, Your face successfully recognized. Exit program: click on webcam viceo then Press (q) key \\n\")\n",
    "                    status = \"Congratulations, Your face successfully recognized. Exit program: click on webcam viceo then Press (q) key \\n\"\n",
    "                else:\n",
    "                    print(\"Sorry, Please match your valid face. Exit program: click on webcam viceo then Press (q) key \\n\")\n",
    "                    status = \"Sorry, Please match your valid face. Exit program: click on webcam viceo then Press (q) key \\n\"\n",
    "\n",
    "       \n",
    "            # display the resulting image\n",
    "            cv2.imshow('Video', frame)\n",
    "\n",
    "            # Hit 'q' on the keyboard to quit!\n",
    "            if cv2.waitKey(1) & 0xFF == ord('q'):\n",
    "                break\n",
    "        \n",
    "        # Release handle to the webcam\n",
    "        video_capture.release()\n",
    "        cv2.destroyAllWindows()\n",
    "    except Exception as e:\n",
    "        print(\"Exception occured while recognizing face.\\n\")\n",
    "        print(e)\n",
    "        status = \"\"\n",
    "    return status"
   ]
  },
  {
   "cell_type": "code",
   "execution_count": null,
   "metadata": {},
   "outputs": [],
   "source": [
    "mydb = \"\"\n",
    "\n",
    "mycursor = \"\"\n",
    "\n",
    "try:\n",
    "    # connect MySQL server and returns a MySQLConnection object. \n",
    "    mydb = msqlconn.connect(host=\"localhost\",user=\"root\",passwd=\"\",database=\"ai_demo\")\n",
    "\n",
    "    # Create a new cursor\n",
    "    mycursor = mydb.cursor()\n",
    "    \n",
    "    # Create recognizer object to recognize our voice\n",
    "    recognize = sr.Recognizer()\n",
    "\n",
    "    # get the from Microphone \n",
    "    with sr.Microphone() as source:\n",
    "\n",
    "        #Print message for user, user know what I need to do\n",
    "        print(\"Speak your name only :\\n\")\n",
    "\n",
    "        # adjust the recognizer sensitivity to ambient noise and record audio from the microphone\n",
    "        recognize.adjust_for_ambient_noise(source)\n",
    "\n",
    "        #Using listen() to capture mic input\n",
    "        audio = recognize.listen(source)\n",
    "\n",
    "        # set the empty default value\n",
    "        text = \"\"\n",
    "\n",
    "        # # get text from mic using google sevice\n",
    "        text = googlespeech_speech_recognize_from_mic(recognize,audio)\n",
    "        text = text.strip()\n",
    "\n",
    "        # if text == empty then try with google sevice   \n",
    "        if len(text) == 0 :\n",
    "            # get text from mic using google sevice\n",
    "            text = googlespeech_speech_recognize_from_mic(recognize,audio)\n",
    "            text = text.strip()\n",
    "            if len(text) != 0 :\n",
    "                # match voice with database model\n",
    "                imgPath = recognize_voice_from_mic(text,mycursor)\n",
    "                imgPath = imgPath.strip()\n",
    "                if len(imgPath) != 0 :\n",
    "                     # match face with database model\n",
    "                    status = recognize_face_from_webcam(imgPath)\n",
    "                    status = status.strip()\n",
    "                    if len(status) != 0 :\n",
    "                        print(status)     \n",
    "        else :\n",
    "            # match voice with database model\n",
    "            imgPath = recognize_voice_from_mic(text,mycursor)\n",
    "            imgPath = imgPath.strip()\n",
    "            if len(imgPath) != 0 :\n",
    "                 # match face with database model\n",
    "                status = recognize_face_from_webcam(imgPath)\n",
    "                status = status.strip()\n",
    "                if len(status) != 0 :\n",
    "                    print(status)\n",
    "except Exception as e:\n",
    "    print(\"Exception occured while running main module.\\n\")\n",
    "finally:\n",
    "    mydb.close()\n",
    "    mycursor.close()"
   ]
  },
  {
   "cell_type": "code",
   "execution_count": null,
   "metadata": {
    "collapsed": true
   },
   "outputs": [],
   "source": []
  },
  {
   "cell_type": "code",
   "execution_count": null,
   "metadata": {
    "collapsed": true
   },
   "outputs": [],
   "source": []
  },
  {
   "cell_type": "code",
   "execution_count": null,
   "metadata": {
    "collapsed": true
   },
   "outputs": [],
   "source": []
  },
  {
   "cell_type": "code",
   "execution_count": null,
   "metadata": {
    "collapsed": true
   },
   "outputs": [],
   "source": []
  },
  {
   "cell_type": "code",
   "execution_count": null,
   "metadata": {
    "collapsed": true
   },
   "outputs": [],
   "source": []
  },
  {
   "cell_type": "code",
   "execution_count": null,
   "metadata": {
    "collapsed": true
   },
   "outputs": [],
   "source": []
  }
 ],
 "metadata": {
  "kernelspec": {
   "display_name": "Python 3",
   "language": "python",
   "name": "python3"
  },
  "language_info": {
   "codemirror_mode": {
    "name": "ipython",
    "version": 3
   },
   "file_extension": ".py",
   "mimetype": "text/x-python",
   "name": "python",
   "nbconvert_exporter": "python",
   "pygments_lexer": "ipython3",
   "version": "3.6.3"
  }
 },
 "nbformat": 4,
 "nbformat_minor": 2
}
